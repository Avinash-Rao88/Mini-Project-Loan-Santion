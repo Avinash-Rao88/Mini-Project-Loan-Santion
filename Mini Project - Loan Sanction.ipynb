{
 "cells": [
  {
   "cell_type": "markdown",
   "id": "670f8d11",
   "metadata": {},
   "source": [
    "### Q.1: Check how many duplicate rows are present "
   ]
  },
  {
   "cell_type": "code",
   "execution_count": 44,
   "id": "e28d30d9",
   "metadata": {},
   "outputs": [],
   "source": [
    "import pandas as pd\n",
    "import numpy as np\n",
    "import seaborn as sns\n",
    "import matplotlib.pyplot as plt\n",
    "import warnings\n",
    "warnings.filterwarnings('ignore')"
   ]
  },
  {
   "cell_type": "code",
   "execution_count": 2,
   "id": "9eab732b",
   "metadata": {},
   "outputs": [
    {
     "data": {
      "text/html": [
       "<div>\n",
       "<style scoped>\n",
       "    .dataframe tbody tr th:only-of-type {\n",
       "        vertical-align: middle;\n",
       "    }\n",
       "\n",
       "    .dataframe tbody tr th {\n",
       "        vertical-align: top;\n",
       "    }\n",
       "\n",
       "    .dataframe thead th {\n",
       "        text-align: right;\n",
       "    }\n",
       "</style>\n",
       "<table border=\"1\" class=\"dataframe\">\n",
       "  <thead>\n",
       "    <tr style=\"text-align: right;\">\n",
       "      <th></th>\n",
       "      <th>Loan_ID</th>\n",
       "      <th>Gender</th>\n",
       "      <th>Married</th>\n",
       "      <th>Dependents</th>\n",
       "      <th>Education</th>\n",
       "      <th>Self_Employed</th>\n",
       "      <th>Applicant_Income</th>\n",
       "      <th>Coapplicant_Income</th>\n",
       "      <th>LoanAmount</th>\n",
       "      <th>Loan_Amount_Term</th>\n",
       "      <th>Credit_History</th>\n",
       "      <th>Property_Area</th>\n",
       "    </tr>\n",
       "  </thead>\n",
       "  <tbody>\n",
       "    <tr>\n",
       "      <th>0</th>\n",
       "      <td>LP001015</td>\n",
       "      <td>Male</td>\n",
       "      <td>Yes</td>\n",
       "      <td>0</td>\n",
       "      <td>Graduate</td>\n",
       "      <td>No</td>\n",
       "      <td>5720</td>\n",
       "      <td>0</td>\n",
       "      <td>110</td>\n",
       "      <td>360</td>\n",
       "      <td>1</td>\n",
       "      <td>Urban</td>\n",
       "    </tr>\n",
       "    <tr>\n",
       "      <th>1</th>\n",
       "      <td>LP001022</td>\n",
       "      <td>Male</td>\n",
       "      <td>Yes</td>\n",
       "      <td>1</td>\n",
       "      <td>Graduate</td>\n",
       "      <td>No</td>\n",
       "      <td>3076</td>\n",
       "      <td>1500</td>\n",
       "      <td>126</td>\n",
       "      <td>360</td>\n",
       "      <td>1</td>\n",
       "      <td>Urban</td>\n",
       "    </tr>\n",
       "    <tr>\n",
       "      <th>2</th>\n",
       "      <td>LP001031</td>\n",
       "      <td>Male</td>\n",
       "      <td>Yes</td>\n",
       "      <td>2</td>\n",
       "      <td>Graduate</td>\n",
       "      <td>No</td>\n",
       "      <td>5000</td>\n",
       "      <td>1800</td>\n",
       "      <td>208</td>\n",
       "      <td>360</td>\n",
       "      <td>1</td>\n",
       "      <td>Urban</td>\n",
       "    </tr>\n",
       "    <tr>\n",
       "      <th>3</th>\n",
       "      <td>LP001035</td>\n",
       "      <td>Male</td>\n",
       "      <td></td>\n",
       "      <td>2</td>\n",
       "      <td>Graduate</td>\n",
       "      <td>No</td>\n",
       "      <td>2340</td>\n",
       "      <td>2546</td>\n",
       "      <td>100</td>\n",
       "      <td>360</td>\n",
       "      <td>1</td>\n",
       "      <td>Urban</td>\n",
       "    </tr>\n",
       "    <tr>\n",
       "      <th>4</th>\n",
       "      <td>LP001051</td>\n",
       "      <td>Male</td>\n",
       "      <td>No</td>\n",
       "      <td>0</td>\n",
       "      <td>Not Graduate</td>\n",
       "      <td>No</td>\n",
       "      <td>3276</td>\n",
       "      <td>0</td>\n",
       "      <td>78</td>\n",
       "      <td>360</td>\n",
       "      <td>1</td>\n",
       "      <td>Urban</td>\n",
       "    </tr>\n",
       "  </tbody>\n",
       "</table>\n",
       "</div>"
      ],
      "text/plain": [
       "    Loan_ID Gender Married Dependents     Education Self_Employed  \\\n",
       "0  LP001015   Male     Yes          0      Graduate            No   \n",
       "1  LP001022   Male     Yes          1      Graduate            No   \n",
       "2  LP001031   Male     Yes          2      Graduate            No   \n",
       "3  LP001035   Male                  2      Graduate            No   \n",
       "4  LP001051   Male      No          0  Not Graduate            No   \n",
       "\n",
       "  Applicant_Income  Coapplicant_Income LoanAmount  Loan_Amount_Term  \\\n",
       "0             5720                   0        110               360   \n",
       "1             3076                1500        126               360   \n",
       "2             5000                1800        208               360   \n",
       "3             2340                2546        100               360   \n",
       "4             3276                   0         78               360   \n",
       "\n",
       "  Credit_History Property_Area  \n",
       "0              1         Urban  \n",
       "1              1         Urban  \n",
       "2              1         Urban  \n",
       "3              1         Urban  \n",
       "4              1         Urban  "
      ]
     },
     "execution_count": 2,
     "metadata": {},
     "output_type": "execute_result"
    }
   ],
   "source": [
    "data = pd.read_excel('loan_sanction.xlsx')\n",
    "data.head()"
   ]
  },
  {
   "cell_type": "code",
   "execution_count": 22,
   "id": "d75fef88",
   "metadata": {},
   "outputs": [
    {
     "name": "stdout",
     "output_type": "stream",
     "text": [
      "Number of Rows: 370\n",
      "Number of Columns: 12\n"
     ]
    }
   ],
   "source": [
    "num_rows, num_columns = data.shape\n",
    "print(f'Number of Rows: {num_rows}')\n",
    "print(f'Number of Columns: {num_columns}')"
   ]
  },
  {
   "cell_type": "code",
   "execution_count": 11,
   "id": "746ca1ab",
   "metadata": {},
   "outputs": [
    {
     "name": "stdout",
     "output_type": "stream",
     "text": [
      "Duplicate Rows:\n",
      "      Loan_ID Gender Married Dependents     Education Self_Employed  \\\n",
      "5    LP001051   Male      No          0  Not Graduate            No   \n",
      "59   LP001321   Male     Yes          2      Graduate            No   \n",
      "330  LP002805   Male     Yes          2      Graduate            No   \n",
      "\n",
      "    Applicant_Income  Coapplicant_Income LoanAmount  Loan_Amount_Term  \\\n",
      "5               3276                   0         78               360   \n",
      "59              3613                3539        134               180   \n",
      "330             5041                 700        150               360   \n",
      "\n",
      "    Credit_History Property_Area  \n",
      "5                1         Urban  \n",
      "59               1     Semiurban  \n",
      "330              1         Urban  \n",
      "\n",
      "\n",
      "Total Duplicate Rows: 3\n"
     ]
    }
   ],
   "source": [
    "duplicate_rows = data[data.duplicated()]\n",
    "print('Duplicate Rows:')\n",
    "print(duplicate_rows)\n",
    "print('\\n\\nTotal Duplicate Rows:', duplicate_rows.shape[0])"
   ]
  },
  {
   "cell_type": "code",
   "execution_count": null,
   "id": "f9a92401",
   "metadata": {},
   "outputs": [],
   "source": []
  },
  {
   "cell_type": "markdown",
   "id": "93806cb4",
   "metadata": {},
   "source": [
    "### Q.2: If any Duplicates Present, drop those duplicates "
   ]
  },
  {
   "cell_type": "code",
   "execution_count": 12,
   "id": "7c9f097c",
   "metadata": {},
   "outputs": [
    {
     "name": "stdout",
     "output_type": "stream",
     "text": [
      "After dropping duplicates:\n",
      "\n",
      "      Loan_ID Gender Married Dependents     Education Self_Employed  \\\n",
      "0    LP001015   Male     Yes          0      Graduate            No   \n",
      "1    LP001022   Male     Yes          1      Graduate            No   \n",
      "2    LP001031   Male     Yes          2      Graduate            No   \n",
      "3    LP001035   Male                  2      Graduate            No   \n",
      "4    LP001051   Male      No          0  Not Graduate            No   \n",
      "..        ...    ...     ...        ...           ...           ...   \n",
      "365  LP002971   Male     Yes         3+  Not Graduate           Yes   \n",
      "366  LP002975   Male     Yes          0      Graduate            No   \n",
      "367  LP002980   Male      No          0      Graduate            No   \n",
      "368  LP002986   Male     Yes          0      Graduate            No   \n",
      "369  LP002989   Male      No          0      Graduate           Yes   \n",
      "\n",
      "    Applicant_Income  Coapplicant_Income LoanAmount  Loan_Amount_Term  \\\n",
      "0               5720                   0        110               360   \n",
      "1               3076                1500        126               360   \n",
      "2               5000                1800        208               360   \n",
      "3               2340                2546        100               360   \n",
      "4               3276                   0         78               360   \n",
      "..               ...                 ...        ...               ...   \n",
      "365             4009                1777        113               360   \n",
      "366             4158                 709        115               360   \n",
      "367             3250                1993        126               360   \n",
      "368             5000                2393        158               360   \n",
      "369             9200                   0         98               180   \n",
      "\n",
      "    Credit_History Property_Area  \n",
      "0                1         Urban  \n",
      "1                1         Urban  \n",
      "2                1         Urban  \n",
      "3                1         Urban  \n",
      "4                1         Urban  \n",
      "..             ...           ...  \n",
      "365              1         Urban  \n",
      "366              1         Urban  \n",
      "367              1     Semiurban  \n",
      "368              1         Rural  \n",
      "369              1         Rural  \n",
      "\n",
      "[367 rows x 12 columns]\n"
     ]
    }
   ],
   "source": [
    "remove_duplicates = data.drop_duplicates()\n",
    "print('After dropping duplicates:\\n')\n",
    "print(remove_duplicates)"
   ]
  },
  {
   "cell_type": "code",
   "execution_count": null,
   "id": "afd316be",
   "metadata": {},
   "outputs": [],
   "source": []
  },
  {
   "cell_type": "markdown",
   "id": "1a71f9e6",
   "metadata": {},
   "source": [
    "### Q.3: Check null values in each column "
   ]
  },
  {
   "cell_type": "code",
   "execution_count": 14,
   "id": "fd4911ca",
   "metadata": {},
   "outputs": [
    {
     "name": "stdout",
     "output_type": "stream",
     "text": [
      "Null values in each column:\n",
      "\n",
      "Loan_ID                0\n",
      "Gender                 2\n",
      "Married                0\n",
      "Dependents            11\n",
      "Education              0\n",
      "Self_Employed          0\n",
      "Applicant_Income       0\n",
      "Coapplicant_Income     0\n",
      "LoanAmount             0\n",
      "Loan_Amount_Term       0\n",
      "Credit_History         0\n",
      "Property_Area          0\n",
      "dtype: int64\n"
     ]
    }
   ],
   "source": [
    "null_values = data.isnull().sum()\n",
    "print('Null values in each column:\\n')\n",
    "print(null_values)"
   ]
  },
  {
   "cell_type": "code",
   "execution_count": null,
   "id": "33af1dcd",
   "metadata": {},
   "outputs": [],
   "source": []
  },
  {
   "cell_type": "markdown",
   "id": "aed2dfb0",
   "metadata": {},
   "source": [
    "### Q.4: Delete the Rows which are having null values. "
   ]
  },
  {
   "cell_type": "code",
   "execution_count": 15,
   "id": "72b61bd7",
   "metadata": {},
   "outputs": [
    {
     "name": "stdout",
     "output_type": "stream",
     "text": [
      "After removing rows with null values:\n",
      "\n",
      "      Loan_ID Gender Married Dependents     Education Self_Employed  \\\n",
      "0    LP001015   Male     Yes          0      Graduate            No   \n",
      "1    LP001022   Male     Yes          1      Graduate            No   \n",
      "2    LP001031   Male     Yes          2      Graduate            No   \n",
      "3    LP001035   Male                  2      Graduate            No   \n",
      "4    LP001051   Male      No          0  Not Graduate            No   \n",
      "..        ...    ...     ...        ...           ...           ...   \n",
      "365  LP002971   Male     Yes         3+  Not Graduate           Yes   \n",
      "366  LP002975   Male     Yes          0      Graduate            No   \n",
      "367  LP002980   Male      No          0      Graduate            No   \n",
      "368  LP002986   Male     Yes          0      Graduate            No   \n",
      "369  LP002989   Male      No          0      Graduate           Yes   \n",
      "\n",
      "    Applicant_Income  Coapplicant_Income LoanAmount  Loan_Amount_Term  \\\n",
      "0               5720                   0        110               360   \n",
      "1               3076                1500        126               360   \n",
      "2               5000                1800        208               360   \n",
      "3               2340                2546        100               360   \n",
      "4               3276                   0         78               360   \n",
      "..               ...                 ...        ...               ...   \n",
      "365             4009                1777        113               360   \n",
      "366             4158                 709        115               360   \n",
      "367             3250                1993        126               360   \n",
      "368             5000                2393        158               360   \n",
      "369             9200                   0         98               180   \n",
      "\n",
      "    Credit_History Property_Area  \n",
      "0                1         Urban  \n",
      "1                1         Urban  \n",
      "2                1         Urban  \n",
      "3                1         Urban  \n",
      "4                1         Urban  \n",
      "..             ...           ...  \n",
      "365              1         Urban  \n",
      "366              1         Urban  \n",
      "367              1     Semiurban  \n",
      "368              1         Rural  \n",
      "369              1         Rural  \n",
      "\n",
      "[357 rows x 12 columns]\n"
     ]
    }
   ],
   "source": [
    "rows_null = data.dropna()\n",
    "print('After removing rows with null values:\\n')\n",
    "print(rows_null)"
   ]
  },
  {
   "cell_type": "code",
   "execution_count": null,
   "id": "b08dc8c7",
   "metadata": {},
   "outputs": [],
   "source": []
  },
  {
   "cell_type": "markdown",
   "id": "dca2f929",
   "metadata": {},
   "source": [
    "### Q.5: Impute null values with Mode in Gender Column "
   ]
  },
  {
   "cell_type": "code",
   "execution_count": 16,
   "id": "462b4bea",
   "metadata": {},
   "outputs": [
    {
     "name": "stdout",
     "output_type": "stream",
     "text": [
      "After imputing null values in the Gender column:\n",
      "\n",
      "      Loan_ID Gender Married Dependents     Education Self_Employed  \\\n",
      "0    LP001015   Male     Yes          0      Graduate            No   \n",
      "1    LP001022   Male     Yes          1      Graduate            No   \n",
      "2    LP001031   Male     Yes          2      Graduate            No   \n",
      "3    LP001035   Male                  2      Graduate            No   \n",
      "4    LP001051   Male      No          0  Not Graduate            No   \n",
      "..        ...    ...     ...        ...           ...           ...   \n",
      "365  LP002971   Male     Yes         3+  Not Graduate           Yes   \n",
      "366  LP002975   Male     Yes          0      Graduate            No   \n",
      "367  LP002980   Male      No          0      Graduate            No   \n",
      "368  LP002986   Male     Yes          0      Graduate            No   \n",
      "369  LP002989   Male      No          0      Graduate           Yes   \n",
      "\n",
      "    Applicant_Income  Coapplicant_Income LoanAmount  Loan_Amount_Term  \\\n",
      "0               5720                   0        110               360   \n",
      "1               3076                1500        126               360   \n",
      "2               5000                1800        208               360   \n",
      "3               2340                2546        100               360   \n",
      "4               3276                   0         78               360   \n",
      "..               ...                 ...        ...               ...   \n",
      "365             4009                1777        113               360   \n",
      "366             4158                 709        115               360   \n",
      "367             3250                1993        126               360   \n",
      "368             5000                2393        158               360   \n",
      "369             9200                   0         98               180   \n",
      "\n",
      "    Credit_History Property_Area  \n",
      "0                1         Urban  \n",
      "1                1         Urban  \n",
      "2                1         Urban  \n",
      "3                1         Urban  \n",
      "4                1         Urban  \n",
      "..             ...           ...  \n",
      "365              1         Urban  \n",
      "366              1         Urban  \n",
      "367              1     Semiurban  \n",
      "368              1         Rural  \n",
      "369              1         Rural  \n",
      "\n",
      "[370 rows x 12 columns]\n"
     ]
    }
   ],
   "source": [
    "mode_gender = data['Gender'].mode()[0]\n",
    "data['Gender'].fillna(mode_gender, inplace=True)\n",
    "print('After imputing null values in the Gender column:\\n')\n",
    "print(data)"
   ]
  },
  {
   "cell_type": "code",
   "execution_count": null,
   "id": "1c496a50",
   "metadata": {},
   "outputs": [],
   "source": []
  },
  {
   "cell_type": "markdown",
   "id": "1ec204f7",
   "metadata": {},
   "source": [
    "### Q.6: Impute null values with Mode in Self_Employed Column "
   ]
  },
  {
   "cell_type": "code",
   "execution_count": 17,
   "id": "0756d9d8",
   "metadata": {},
   "outputs": [
    {
     "name": "stdout",
     "output_type": "stream",
     "text": [
      "After imputing null values in the Self_Employed column:\n",
      "\n",
      "      Loan_ID Gender Married Dependents     Education Self_Employed  \\\n",
      "0    LP001015   Male     Yes          0      Graduate            No   \n",
      "1    LP001022   Male     Yes          1      Graduate            No   \n",
      "2    LP001031   Male     Yes          2      Graduate            No   \n",
      "3    LP001035   Male                  2      Graduate            No   \n",
      "4    LP001051   Male      No          0  Not Graduate            No   \n",
      "..        ...    ...     ...        ...           ...           ...   \n",
      "365  LP002971   Male     Yes         3+  Not Graduate           Yes   \n",
      "366  LP002975   Male     Yes          0      Graduate            No   \n",
      "367  LP002980   Male      No          0      Graduate            No   \n",
      "368  LP002986   Male     Yes          0      Graduate            No   \n",
      "369  LP002989   Male      No          0      Graduate           Yes   \n",
      "\n",
      "    Applicant_Income  Coapplicant_Income LoanAmount  Loan_Amount_Term  \\\n",
      "0               5720                   0        110               360   \n",
      "1               3076                1500        126               360   \n",
      "2               5000                1800        208               360   \n",
      "3               2340                2546        100               360   \n",
      "4               3276                   0         78               360   \n",
      "..               ...                 ...        ...               ...   \n",
      "365             4009                1777        113               360   \n",
      "366             4158                 709        115               360   \n",
      "367             3250                1993        126               360   \n",
      "368             5000                2393        158               360   \n",
      "369             9200                   0         98               180   \n",
      "\n",
      "    Credit_History Property_Area  \n",
      "0                1         Urban  \n",
      "1                1         Urban  \n",
      "2                1         Urban  \n",
      "3                1         Urban  \n",
      "4                1         Urban  \n",
      "..             ...           ...  \n",
      "365              1         Urban  \n",
      "366              1         Urban  \n",
      "367              1     Semiurban  \n",
      "368              1         Rural  \n",
      "369              1         Rural  \n",
      "\n",
      "[370 rows x 12 columns]\n"
     ]
    }
   ],
   "source": [
    "mode_self_employed = data['Self_Employed'].mode()[0]\n",
    "data['Self_Employed'].fillna(mode_self_employed, inplace=True)\n",
    "print('After imputing null values in the Self_Employed column:\\n')\n",
    "print(data)"
   ]
  },
  {
   "cell_type": "code",
   "execution_count": null,
   "id": "91f2043d",
   "metadata": {},
   "outputs": [],
   "source": []
  },
  {
   "cell_type": "markdown",
   "id": "06580d89",
   "metadata": {},
   "source": [
    "### Q.7: Impute null values with mean in LoanAmount Column "
   ]
  },
  {
   "cell_type": "code",
   "execution_count": 18,
   "id": "4f42e444",
   "metadata": {},
   "outputs": [
    {
     "name": "stdout",
     "output_type": "stream",
     "text": [
      "After imputing null values in the LoanAmount column:\n",
      "\n",
      "      Loan_ID Gender Married Dependents     Education Self_Employed  \\\n",
      "0    LP001015   Male     Yes          0      Graduate            No   \n",
      "1    LP001022   Male     Yes          1      Graduate            No   \n",
      "2    LP001031   Male     Yes          2      Graduate            No   \n",
      "3    LP001035   Male                  2      Graduate            No   \n",
      "4    LP001051   Male      No          0  Not Graduate            No   \n",
      "..        ...    ...     ...        ...           ...           ...   \n",
      "365  LP002971   Male     Yes         3+  Not Graduate           Yes   \n",
      "366  LP002975   Male     Yes          0      Graduate            No   \n",
      "367  LP002980   Male      No          0      Graduate            No   \n",
      "368  LP002986   Male     Yes          0      Graduate            No   \n",
      "369  LP002989   Male      No          0      Graduate           Yes   \n",
      "\n",
      "    Applicant_Income  Coapplicant_Income  LoanAmount  Loan_Amount_Term  \\\n",
      "0               5720                   0       110.0               360   \n",
      "1               3076                1500       126.0               360   \n",
      "2               5000                1800       208.0               360   \n",
      "3               2340                2546       100.0               360   \n",
      "4               3276                   0        78.0               360   \n",
      "..               ...                 ...         ...               ...   \n",
      "365             4009                1777       113.0               360   \n",
      "366             4158                 709       115.0               360   \n",
      "367             3250                1993       126.0               360   \n",
      "368             5000                2393       158.0               360   \n",
      "369             9200                   0        98.0               180   \n",
      "\n",
      "    Credit_History Property_Area  \n",
      "0                1         Urban  \n",
      "1                1         Urban  \n",
      "2                1         Urban  \n",
      "3                1         Urban  \n",
      "4                1         Urban  \n",
      "..             ...           ...  \n",
      "365              1         Urban  \n",
      "366              1         Urban  \n",
      "367              1     Semiurban  \n",
      "368              1         Rural  \n",
      "369              1         Rural  \n",
      "\n",
      "[370 rows x 12 columns]\n"
     ]
    }
   ],
   "source": [
    "#converting column to numeric\n",
    "data['LoanAmount'] = pd.to_numeric(data['LoanAmount'], errors='coerce')\n",
    "mean_loan_amount = data['LoanAmount'].mean()\n",
    "data['LoanAmount'].fillna(mean_loan_amount, inplace=True)\n",
    "print('After imputing null values in the LoanAmount column:\\n')\n",
    "print(data)"
   ]
  },
  {
   "cell_type": "code",
   "execution_count": 19,
   "id": "785a9643",
   "metadata": {},
   "outputs": [
    {
     "name": "stdout",
     "output_type": "stream",
     "text": [
      "After imputing null values in the LoanAmount column:\n",
      "\n",
      "      Loan_ID Gender Married Dependents     Education Self_Employed  \\\n",
      "0    LP001015   Male     Yes          0      Graduate            No   \n",
      "1    LP001022   Male     Yes          1      Graduate            No   \n",
      "2    LP001031   Male     Yes          2      Graduate            No   \n",
      "3    LP001035   Male                  2      Graduate            No   \n",
      "4    LP001051   Male      No          0  Not Graduate            No   \n",
      "..        ...    ...     ...        ...           ...           ...   \n",
      "365  LP002971   Male     Yes         3+  Not Graduate           Yes   \n",
      "366  LP002975   Male     Yes          0      Graduate            No   \n",
      "367  LP002980   Male      No          0      Graduate            No   \n",
      "368  LP002986   Male     Yes          0      Graduate            No   \n",
      "369  LP002989   Male      No          0      Graduate           Yes   \n",
      "\n",
      "    Applicant_Income  Coapplicant_Income  LoanAmount  Loan_Amount_Term  \\\n",
      "0               5720                   0       110.0               360   \n",
      "1               3076                1500       126.0               360   \n",
      "2               5000                1800       208.0               360   \n",
      "3               2340                2546       100.0               360   \n",
      "4               3276                   0        78.0               360   \n",
      "..               ...                 ...         ...               ...   \n",
      "365             4009                1777       113.0               360   \n",
      "366             4158                 709       115.0               360   \n",
      "367             3250                1993       126.0               360   \n",
      "368             5000                2393       158.0               360   \n",
      "369             9200                   0        98.0               180   \n",
      "\n",
      "    Credit_History Property_Area  \n",
      "0                1         Urban  \n",
      "1                1         Urban  \n",
      "2                1         Urban  \n",
      "3                1         Urban  \n",
      "4                1         Urban  \n",
      "..             ...           ...  \n",
      "365              1         Urban  \n",
      "366              1         Urban  \n",
      "367              1     Semiurban  \n",
      "368              1         Rural  \n",
      "369              1         Rural  \n",
      "\n",
      "[370 rows x 12 columns]\n"
     ]
    }
   ],
   "source": [
    "#now imputing null values\n",
    "mean_loan_amount = data['LoanAmount'].mean()\n",
    "data['LoanAmount'].fillna(mean_loan_amount, inplace=True)\n",
    "print('After imputing null values in the LoanAmount column:\\n')\n",
    "print(data)"
   ]
  },
  {
   "cell_type": "code",
   "execution_count": null,
   "id": "1d31197e",
   "metadata": {},
   "outputs": [],
   "source": []
  },
  {
   "cell_type": "markdown",
   "id": "ed745ad9",
   "metadata": {},
   "source": [
    "### Q.8: Top 5 Records "
   ]
  },
  {
   "cell_type": "code",
   "execution_count": 20,
   "id": "d59905b8",
   "metadata": {},
   "outputs": [
    {
     "data": {
      "text/html": [
       "<div>\n",
       "<style scoped>\n",
       "    .dataframe tbody tr th:only-of-type {\n",
       "        vertical-align: middle;\n",
       "    }\n",
       "\n",
       "    .dataframe tbody tr th {\n",
       "        vertical-align: top;\n",
       "    }\n",
       "\n",
       "    .dataframe thead th {\n",
       "        text-align: right;\n",
       "    }\n",
       "</style>\n",
       "<table border=\"1\" class=\"dataframe\">\n",
       "  <thead>\n",
       "    <tr style=\"text-align: right;\">\n",
       "      <th></th>\n",
       "      <th>Loan_ID</th>\n",
       "      <th>Gender</th>\n",
       "      <th>Married</th>\n",
       "      <th>Dependents</th>\n",
       "      <th>Education</th>\n",
       "      <th>Self_Employed</th>\n",
       "      <th>Applicant_Income</th>\n",
       "      <th>Coapplicant_Income</th>\n",
       "      <th>LoanAmount</th>\n",
       "      <th>Loan_Amount_Term</th>\n",
       "      <th>Credit_History</th>\n",
       "      <th>Property_Area</th>\n",
       "    </tr>\n",
       "  </thead>\n",
       "  <tbody>\n",
       "    <tr>\n",
       "      <th>0</th>\n",
       "      <td>LP001015</td>\n",
       "      <td>Male</td>\n",
       "      <td>Yes</td>\n",
       "      <td>0</td>\n",
       "      <td>Graduate</td>\n",
       "      <td>No</td>\n",
       "      <td>5720</td>\n",
       "      <td>0</td>\n",
       "      <td>110.0</td>\n",
       "      <td>360</td>\n",
       "      <td>1</td>\n",
       "      <td>Urban</td>\n",
       "    </tr>\n",
       "    <tr>\n",
       "      <th>1</th>\n",
       "      <td>LP001022</td>\n",
       "      <td>Male</td>\n",
       "      <td>Yes</td>\n",
       "      <td>1</td>\n",
       "      <td>Graduate</td>\n",
       "      <td>No</td>\n",
       "      <td>3076</td>\n",
       "      <td>1500</td>\n",
       "      <td>126.0</td>\n",
       "      <td>360</td>\n",
       "      <td>1</td>\n",
       "      <td>Urban</td>\n",
       "    </tr>\n",
       "    <tr>\n",
       "      <th>2</th>\n",
       "      <td>LP001031</td>\n",
       "      <td>Male</td>\n",
       "      <td>Yes</td>\n",
       "      <td>2</td>\n",
       "      <td>Graduate</td>\n",
       "      <td>No</td>\n",
       "      <td>5000</td>\n",
       "      <td>1800</td>\n",
       "      <td>208.0</td>\n",
       "      <td>360</td>\n",
       "      <td>1</td>\n",
       "      <td>Urban</td>\n",
       "    </tr>\n",
       "    <tr>\n",
       "      <th>3</th>\n",
       "      <td>LP001035</td>\n",
       "      <td>Male</td>\n",
       "      <td></td>\n",
       "      <td>2</td>\n",
       "      <td>Graduate</td>\n",
       "      <td>No</td>\n",
       "      <td>2340</td>\n",
       "      <td>2546</td>\n",
       "      <td>100.0</td>\n",
       "      <td>360</td>\n",
       "      <td>1</td>\n",
       "      <td>Urban</td>\n",
       "    </tr>\n",
       "    <tr>\n",
       "      <th>4</th>\n",
       "      <td>LP001051</td>\n",
       "      <td>Male</td>\n",
       "      <td>No</td>\n",
       "      <td>0</td>\n",
       "      <td>Not Graduate</td>\n",
       "      <td>No</td>\n",
       "      <td>3276</td>\n",
       "      <td>0</td>\n",
       "      <td>78.0</td>\n",
       "      <td>360</td>\n",
       "      <td>1</td>\n",
       "      <td>Urban</td>\n",
       "    </tr>\n",
       "  </tbody>\n",
       "</table>\n",
       "</div>"
      ],
      "text/plain": [
       "    Loan_ID Gender Married Dependents     Education Self_Employed  \\\n",
       "0  LP001015   Male     Yes          0      Graduate            No   \n",
       "1  LP001022   Male     Yes          1      Graduate            No   \n",
       "2  LP001031   Male     Yes          2      Graduate            No   \n",
       "3  LP001035   Male                  2      Graduate            No   \n",
       "4  LP001051   Male      No          0  Not Graduate            No   \n",
       "\n",
       "  Applicant_Income  Coapplicant_Income  LoanAmount  Loan_Amount_Term  \\\n",
       "0             5720                   0       110.0               360   \n",
       "1             3076                1500       126.0               360   \n",
       "2             5000                1800       208.0               360   \n",
       "3             2340                2546       100.0               360   \n",
       "4             3276                   0        78.0               360   \n",
       "\n",
       "  Credit_History Property_Area  \n",
       "0              1         Urban  \n",
       "1              1         Urban  \n",
       "2              1         Urban  \n",
       "3              1         Urban  \n",
       "4              1         Urban  "
      ]
     },
     "execution_count": 20,
     "metadata": {},
     "output_type": "execute_result"
    }
   ],
   "source": [
    "data.head()"
   ]
  },
  {
   "cell_type": "code",
   "execution_count": null,
   "id": "6dddeb92",
   "metadata": {},
   "outputs": [],
   "source": []
  },
  {
   "cell_type": "markdown",
   "id": "016b3560",
   "metadata": {},
   "source": [
    "### Q.9: Export the dataframe in excel "
   ]
  },
  {
   "cell_type": "code",
   "execution_count": 21,
   "id": "e36ced87",
   "metadata": {},
   "outputs": [],
   "source": [
    "data.to_excel('LOAN.xlsx', index=False)"
   ]
  },
  {
   "cell_type": "code",
   "execution_count": null,
   "id": "754daf43",
   "metadata": {},
   "outputs": [],
   "source": []
  },
  {
   "cell_type": "markdown",
   "id": "d27b4813",
   "metadata": {},
   "source": [
    "### Q.10: Number of Rows and Columns in a DataFrame "
   ]
  },
  {
   "cell_type": "code",
   "execution_count": 23,
   "id": "f4f35c55",
   "metadata": {},
   "outputs": [
    {
     "name": "stdout",
     "output_type": "stream",
     "text": [
      "Number of Rows: 370\n",
      "Number of Columns: 12\n"
     ]
    }
   ],
   "source": [
    "num_rows, num_columns = data.shape\n",
    "print(f'Number of Rows: {num_rows}')\n",
    "print(f'Number of Columns: {num_columns}')"
   ]
  },
  {
   "cell_type": "code",
   "execution_count": null,
   "id": "9890a7b1",
   "metadata": {},
   "outputs": [],
   "source": []
  },
  {
   "cell_type": "markdown",
   "id": "f0a67777",
   "metadata": {},
   "source": [
    "### Q.11: Print all Column names in a DF"
   ]
  },
  {
   "cell_type": "code",
   "execution_count": 25,
   "id": "a5581675",
   "metadata": {},
   "outputs": [
    {
     "name": "stdout",
     "output_type": "stream",
     "text": [
      "Column names in the DataFrame:\n",
      "Index(['Loan_ID', 'Gender', 'Married', 'Dependents', 'Education',\n",
      "       'Self_Employed', 'Applicant_Income', 'Coapplicant_Income', 'LoanAmount',\n",
      "       'Loan_Amount_Term', 'Credit_History', 'Property_Area'],\n",
      "      dtype='object')\n"
     ]
    }
   ],
   "source": [
    "print('Column names in the DataFrame:')\n",
    "print(data.columns)"
   ]
  },
  {
   "cell_type": "code",
   "execution_count": null,
   "id": "c25f51b6",
   "metadata": {},
   "outputs": [],
   "source": []
  },
  {
   "cell_type": "markdown",
   "id": "bb34acdf",
   "metadata": {},
   "source": [
    "### Q.12: Generate the descriptive statistics of Numerical variables"
   ]
  },
  {
   "cell_type": "code",
   "execution_count": 32,
   "id": "5edb7983",
   "metadata": {},
   "outputs": [
    {
     "name": "stdout",
     "output_type": "stream",
     "text": [
      "Descriptive Statistics of Numerical Variables:\n",
      "       Coapplicant_Income  LoanAmount  Loan_Amount_Term\n",
      "count              370.00      370.00            370.00\n",
      "mean              1568.31      162.63            342.48\n",
      "std               2328.86      516.45             64.96\n",
      "min                  0.00      -88.00              6.00\n",
      "25%                  0.00      102.00            360.00\n",
      "50%               1012.50      125.00            360.00\n",
      "75%               2437.25      158.00            360.00\n",
      "max              24000.00     9999.00            480.00\n"
     ]
    }
   ],
   "source": [
    "numerical_statistics = data.describe().round(2)\n",
    "print('Descriptive Statistics of Numerical Variables:')\n",
    "print(numerical_statistics)"
   ]
  },
  {
   "cell_type": "code",
   "execution_count": null,
   "id": "2e9b6a0c",
   "metadata": {},
   "outputs": [],
   "source": []
  },
  {
   "cell_type": "markdown",
   "id": "3abdd7bb",
   "metadata": {},
   "source": [
    "### Q.13: Display numeric data type columns in a DF "
   ]
  },
  {
   "cell_type": "code",
   "execution_count": 31,
   "id": "9582a5f7",
   "metadata": {},
   "outputs": [
    {
     "name": "stdout",
     "output_type": "stream",
     "text": [
      "Numeric Data Type Columns:\n",
      "\n",
      "     Coapplicant_Income  LoanAmount  Loan_Amount_Term\n",
      "0                     0       110.0               360\n",
      "1                  1500       126.0               360\n",
      "2                  1800       208.0               360\n",
      "3                  2546       100.0               360\n",
      "4                     0        78.0               360\n",
      "..                  ...         ...               ...\n",
      "365                1777       113.0               360\n",
      "366                 709       115.0               360\n",
      "367                1993       126.0               360\n",
      "368                2393       158.0               360\n",
      "369                   0        98.0               180\n",
      "\n",
      "[370 rows x 3 columns]\n"
     ]
    }
   ],
   "source": [
    "numeric_data_columns = data.select_dtypes(include='number')\n",
    "print('Numeric Data Type Columns:\\n')\n",
    "print(numeric_data_columns)"
   ]
  },
  {
   "cell_type": "code",
   "execution_count": null,
   "id": "98624b5d",
   "metadata": {},
   "outputs": [],
   "source": []
  },
  {
   "cell_type": "markdown",
   "id": "c5c4e841",
   "metadata": {},
   "source": [
    "### Q.14: Select all data types of columns in a DF except object data type"
   ]
  },
  {
   "cell_type": "code",
   "execution_count": 33,
   "id": "bb3db9b2",
   "metadata": {},
   "outputs": [
    {
     "name": "stdout",
     "output_type": "stream",
     "text": [
      "Columns with Non-Object Data Types:\n",
      "\n",
      "     Coapplicant_Income  LoanAmount  Loan_Amount_Term\n",
      "0                     0       110.0               360\n",
      "1                  1500       126.0               360\n",
      "2                  1800       208.0               360\n",
      "3                  2546       100.0               360\n",
      "4                     0        78.0               360\n",
      "..                  ...         ...               ...\n",
      "365                1777       113.0               360\n",
      "366                 709       115.0               360\n",
      "367                1993       126.0               360\n",
      "368                2393       158.0               360\n",
      "369                   0        98.0               180\n",
      "\n",
      "[370 rows x 3 columns]\n"
     ]
    }
   ],
   "source": [
    "x = data.select_dtypes(exclude='object')\n",
    "print('Columns with Non-Object Data Types:\\n')\n",
    "print(x)"
   ]
  },
  {
   "cell_type": "code",
   "execution_count": null,
   "id": "364d81d6",
   "metadata": {},
   "outputs": [],
   "source": []
  },
  {
   "cell_type": "markdown",
   "id": "90e9e6de",
   "metadata": {},
   "source": [
    "### Q.15: Extract all the Records where Self_Employed is equal to Yes "
   ]
  },
  {
   "cell_type": "code",
   "execution_count": 34,
   "id": "358ca813",
   "metadata": {},
   "outputs": [
    {
     "name": "stdout",
     "output_type": "stream",
     "text": [
      "Records where Self_Employed is equal to Yes:\n",
      "\n",
      "      Loan_ID  Gender Married Dependents     Education Self_Employed  \\\n",
      "6    LP001054    Male     Yes          0  Not Graduate           Yes   \n",
      "38   LP001210       ?     Yes          0      Graduate           Yes   \n",
      "39   LP001211    Male      No          0      Graduate           Yes   \n",
      "50   LP001270    Male     Yes         3+  Not Graduate           Yes   \n",
      "63   LP001335    Male     Yes          0      Graduate           Yes   \n",
      "75   LP001380    Male     Yes          0      Graduate           Yes   \n",
      "79   LP001413    Male      No          0      Graduate           Yes   \n",
      "92   LP001475    Male     Yes          0      Graduate           Yes   \n",
      "112  LP001584  Female       #          0      Graduate           Yes   \n",
      "134  LP001728    Male     Yes          1      Graduate           Yes   \n",
      "145  LP001791    Male     Yes          0      Graduate           Yes   \n",
      "146  LP001794    Male     Yes          2      Graduate           Yes   \n",
      "149  LP001817    Male      No          0  Not Graduate           Yes   \n",
      "157  LP001857    Male      No          0  Not Graduate           Yes   \n",
      "158  LP001862    Male     Yes          2      Graduate           Yes   \n",
      "197  LP002083    Male      No          0      Graduate           Yes   \n",
      "202  LP002105    Male     Yes          0      Graduate           Yes   \n",
      "214  LP002172    Male     Yes         3+      Graduate           Yes   \n",
      "220  LP002195    Male     Yes          1      Graduate           Yes   \n",
      "226  LP002256  Female      No          2      Graduate           Yes   \n",
      "233  LP002298    Male      No          0      Graduate           Yes   \n",
      "248  LP002358    Male     Yes          2      Graduate           Yes   \n",
      "250  LP002375    Male     Yes          0  Not Graduate           Yes   \n",
      "273  LP002482  Female      No          0      Graduate           Yes   \n",
      "302  LP002644    Male     Yes          1      Graduate           Yes   \n",
      "305  LP002657    Male     Yes          1  Not Graduate           Yes   \n",
      "308  LP002721    Male     Yes          2      Graduate           Yes   \n",
      "331  LP002806    Male     Yes         3+      Graduate           Yes   \n",
      "341  LP002857    Male     Yes          1      Graduate           Yes   \n",
      "343  LP002860    Male     Yes          0      Graduate           Yes   \n",
      "344  LP002867    Male      No          0      Graduate           Yes   \n",
      "352  LP002891    Male     Yes          0      Graduate           Yes   \n",
      "365  LP002971    Male     Yes         3+  Not Graduate           Yes   \n",
      "369  LP002989    Male      No          0      Graduate           Yes   \n",
      "\n",
      "    Applicant_Income  Coapplicant_Income  LoanAmount  Loan_Amount_Term  \\\n",
      "6               2165                3422       152.0               360   \n",
      "38              2267                2792        90.0               360   \n",
      "39              5833                   0       116.0               360   \n",
      "50              8000                 250       187.0               360   \n",
      "63              7016                 292       125.0               360   \n",
      "75              3900                2094       232.0               360   \n",
      "79              6356                   0        50.0               360   \n",
      "92              3188                2286       130.0               360   \n",
      "112             4742                   0       108.0               360   \n",
      "134             3343                1517       105.0               360   \n",
      "145            32000                   0       550.0               360   \n",
      "146            10890                   0       260.0                12   \n",
      "149             8703                   0       199.0               360   \n",
      "157             1599                2474       125.0               300   \n",
      "158             4246                4246       214.0               360   \n",
      "197             5833                   0       116.0               360   \n",
      "202             8706                   0       108.0               480   \n",
      "214             5384                   0       150.0               360   \n",
      "220             3507                3148       212.0               360   \n",
      "226             5184                   0       187.0               360   \n",
      "233             2860                2988       138.0               360   \n",
      "248             5000                2166       150.0               360   \n",
      "250             3943                   0        64.0               360   \n",
      "273             3333                3916       212.0               360   \n",
      "302             7500                   0        75.0               360   \n",
      "305              570                2125        68.0               360   \n",
      "308             7500                   0       183.0               360   \n",
      "331             6958                1411       150.0               360   \n",
      "341             2360                3355        87.0               240   \n",
      "343             2623                4831       122.0               180   \n",
      "344             3972                4275       187.0               360   \n",
      "352             2500                 296       137.0               300   \n",
      "365             4009                1777       113.0               360   \n",
      "369             9200                   0        98.0               180   \n",
      "\n",
      "    Credit_History Property_Area  \n",
      "6                1         Urban  \n",
      "38               1         Urban  \n",
      "39               1         Urban  \n",
      "50               1     Semiurban  \n",
      "63               1         Urban  \n",
      "75               1         Rural  \n",
      "79               1         Rural  \n",
      "92               1         Rural  \n",
      "112              1     Semiurban  \n",
      "134              1         Rural  \n",
      "145              1     Semiurban  \n",
      "146              1         Rural  \n",
      "149              1         Rural  \n",
      "157              1     Semiurban  \n",
      "158              1         Urban  \n",
      "197              1         Urban  \n",
      "202              1         Rural  \n",
      "214              1     Semiurban  \n",
      "220              1         Rural  \n",
      "226              1     Semiurban  \n",
      "233              1         Urban  \n",
      "248              1         Urban  \n",
      "250              1     Semiurban  \n",
      "273              1         Rural  \n",
      "302              1         Urban  \n",
      "305              1         Rural  \n",
      "308              1         Rural  \n",
      "331              1         Rural  \n",
      "341              1         Rural  \n",
      "343              1     Semiurban  \n",
      "344              1         Rural  \n",
      "352              1         Rural  \n",
      "365              1         Urban  \n",
      "369              1         Rural  \n"
     ]
    }
   ],
   "source": [
    "SEyes = data[data['Self_Employed'] == 'Yes']\n",
    "print('Records where Self_Employed is equal to Yes:\\n')\n",
    "print(SEyes)"
   ]
  },
  {
   "cell_type": "code",
   "execution_count": null,
   "id": "e85174b4",
   "metadata": {},
   "outputs": [],
   "source": []
  },
  {
   "cell_type": "markdown",
   "id": "f8a01bb8",
   "metadata": {},
   "source": [
    "### Q.16: Extract all the Records where Property_area is equal to urban in a DF"
   ]
  },
  {
   "cell_type": "code",
   "execution_count": 35,
   "id": "07574479",
   "metadata": {},
   "outputs": [
    {
     "name": "stdout",
     "output_type": "stream",
     "text": [
      "Records where Property_Area is equal to Urban:\n",
      "\n",
      "      Loan_ID  Gender Married Dependents     Education Self_Employed  \\\n",
      "0    LP001015    Male     Yes          0      Graduate            No   \n",
      "1    LP001022    Male     Yes          1      Graduate            No   \n",
      "2    LP001031    Male     Yes          2      Graduate            No   \n",
      "3    LP001035    Male                  2      Graduate            No   \n",
      "4    LP001051    Male      No          0  Not Graduate            No   \n",
      "..        ...     ...     ...        ...           ...           ...   \n",
      "359  LP002935    Male     Yes          1      Graduate            No   \n",
      "360  LP002952    Male      No          0      Graduate            No   \n",
      "363  LP002965  Female     Yes          0      Graduate            No   \n",
      "365  LP002971    Male     Yes         3+  Not Graduate           Yes   \n",
      "366  LP002975    Male     Yes          0      Graduate            No   \n",
      "\n",
      "    Applicant_Income  Coapplicant_Income  LoanAmount  Loan_Amount_Term  \\\n",
      "0               5720                   0       110.0               360   \n",
      "1               3076                1500       126.0               360   \n",
      "2               5000                1800       208.0               360   \n",
      "3               2340                2546       100.0               360   \n",
      "4               3276                   0        78.0               360   \n",
      "..               ...                 ...         ...               ...   \n",
      "359             3791                1936        85.0               360   \n",
      "360             2500                   0        60.0               360   \n",
      "363             8550                4255        96.0               360   \n",
      "365             4009                1777       113.0               360   \n",
      "366             4158                 709       115.0               360   \n",
      "\n",
      "    Credit_History Property_Area  \n",
      "0                1         Urban  \n",
      "1                1         Urban  \n",
      "2                1         Urban  \n",
      "3                1         Urban  \n",
      "4                1         Urban  \n",
      "..             ...           ...  \n",
      "359              1         Urban  \n",
      "360              1         Urban  \n",
      "363              1         Urban  \n",
      "365              1         Urban  \n",
      "366              1         Urban  \n",
      "\n",
      "[142 rows x 12 columns]\n"
     ]
    }
   ],
   "source": [
    "urban = data[data['Property_Area'] == 'Urban']\n",
    "print('Records where Property_Area is equal to Urban:\\n')\n",
    "print(urban)"
   ]
  },
  {
   "cell_type": "code",
   "execution_count": null,
   "id": "f0bfc598",
   "metadata": {},
   "outputs": [],
   "source": []
  },
  {
   "cell_type": "markdown",
   "id": "f8c137df",
   "metadata": {},
   "source": [
    "### Q.17: Print number of unique vaues in Gender column "
   ]
  },
  {
   "cell_type": "code",
   "execution_count": 37,
   "id": "cd43a126",
   "metadata": {},
   "outputs": [
    {
     "name": "stdout",
     "output_type": "stream",
     "text": [
      "Number of unique values in the Gender column: 3\n"
     ]
    }
   ],
   "source": [
    "unique_gender = data['Gender'].nunique()\n",
    "print('Number of unique values in the Gender column:', unique_gender)"
   ]
  },
  {
   "cell_type": "code",
   "execution_count": null,
   "id": "ca6ba73c",
   "metadata": {},
   "outputs": [],
   "source": []
  },
  {
   "cell_type": "markdown",
   "id": "5d07cff4",
   "metadata": {},
   "source": [
    "### Q.18: Check outliers in Loan amount and credit history column and replace them with mean "
   ]
  },
  {
   "cell_type": "code",
   "execution_count": 39,
   "id": "e46b728f",
   "metadata": {},
   "outputs": [
    {
     "name": "stdout",
     "output_type": "stream",
     "text": [
      "After replacing outliers:\n",
      "\n",
      "      Loan_ID Gender Married Dependents     Education Self_Employed  \\\n",
      "0    LP001015   Male     Yes          0      Graduate            No   \n",
      "1    LP001022   Male     Yes          1      Graduate            No   \n",
      "2    LP001031   Male     Yes          2      Graduate            No   \n",
      "3    LP001035   Male                  2      Graduate            No   \n",
      "4    LP001051   Male      No          0  Not Graduate            No   \n",
      "..        ...    ...     ...        ...           ...           ...   \n",
      "365  LP002971   Male     Yes         3+  Not Graduate           Yes   \n",
      "366  LP002975   Male     Yes          0      Graduate            No   \n",
      "367  LP002980   Male      No          0      Graduate            No   \n",
      "368  LP002986   Male     Yes          0      Graduate            No   \n",
      "369  LP002989   Male      No          0      Graduate           Yes   \n",
      "\n",
      "    Applicant_Income  Coapplicant_Income  LoanAmount  Loan_Amount_Term  \\\n",
      "0               5720                   0       110.0               360   \n",
      "1               3076                1500       126.0               360   \n",
      "2               5000                1800       208.0               360   \n",
      "3               2340                2546       100.0               360   \n",
      "4               3276                   0        78.0               360   \n",
      "..               ...                 ...         ...               ...   \n",
      "365             4009                1777       113.0               360   \n",
      "366             4158                 709       115.0               360   \n",
      "367             3250                1993       126.0               360   \n",
      "368             5000                2393       158.0               360   \n",
      "369             9200                   0        98.0               180   \n",
      "\n",
      "     Credit_History Property_Area  \n",
      "0               1.0         Urban  \n",
      "1               1.0         Urban  \n",
      "2               1.0         Urban  \n",
      "3               1.0         Urban  \n",
      "4               1.0         Urban  \n",
      "..              ...           ...  \n",
      "365             1.0         Urban  \n",
      "366             1.0         Urban  \n",
      "367             1.0     Semiurban  \n",
      "368             1.0         Rural  \n",
      "369             1.0         Rural  \n",
      "\n",
      "[370 rows x 12 columns]\n"
     ]
    }
   ],
   "source": [
    "# Converting columns to numeric value\n",
    "data['LoanAmount'] = pd.to_numeric(data['LoanAmount'], errors='coerce')\n",
    "data['Credit_History'] = pd.to_numeric(data['Credit_History'], errors='coerce')\n",
    "\n",
    "\n",
    "\n",
    "# Checking outliers in loan amount\n",
    "loan_amount_q1 = data['LoanAmount'].quantile(0.25)\n",
    "loan_amount_q3 = data['LoanAmount'].quantile(0.75)\n",
    "loan_amount_iqr = loan_amount_q3 - loan_amount_q1\n",
    "loan_amount_outliers = (data['LoanAmount'] < loan_amount_q1 - 1.5 * loan_amount_iqr) & (data['LoanAmount'] > loan_amount_q3 + 1.5 * loan_amount_iqr)\n",
    "\n",
    "\n",
    "\n",
    "# Replacing with mean\n",
    "data.loc[loan_amount_outliers, 'LoanAmount'] = data['LoanAmount'].mean()\n",
    "\n",
    "\n",
    "\n",
    "# Checking outliers in credit history \n",
    "credit_history_q1 = data['Credit_History'].quantile(0.25)\n",
    "credit_history_q3 = data['Credit_History'].quantile(0.75)\n",
    "credit_history_iqr = credit_history_q3 - credit_history_q1\n",
    "credit_history_outliers = (data['Credit_History'] < credit_history_q1 - 1.5 * credit_history_iqr) & (data['Credit_History'] > credit_history_q3 + 1.5 * credit_history_iqr)\n",
    "\n",
    "\n",
    "\n",
    "# Replacing with mean\n",
    "data.loc[credit_history_outliers, 'Credit_History'] = data['Credit_History'].mean()\n",
    "\n",
    "\n",
    "\n",
    "print('After replacing outliers:\\n')\n",
    "print(data)"
   ]
  },
  {
   "cell_type": "code",
   "execution_count": null,
   "id": "9f4f3224",
   "metadata": {},
   "outputs": [],
   "source": []
  },
  {
   "cell_type": "markdown",
   "id": "ca9dff0f",
   "metadata": {},
   "source": [
    "### Q.19: Check for correlations of all variables."
   ]
  },
  {
   "cell_type": "code",
   "execution_count": 42,
   "id": "9ff78050",
   "metadata": {},
   "outputs": [
    {
     "name": "stdout",
     "output_type": "stream",
     "text": [
      "Correlation Matrix:\n",
      "\n",
      "                    Coapplicant_Income  LoanAmount  Loan_Amount_Term  \\\n",
      "Coapplicant_Income            1.000000    0.098799         -0.015040   \n",
      "LoanAmount                    0.098799    1.000000          0.024692   \n",
      "Loan_Amount_Term             -0.015040    0.024692          1.000000   \n",
      "Credit_History               -0.035080   -0.009875          0.014102   \n",
      "\n",
      "                    Credit_History  \n",
      "Coapplicant_Income       -0.035080  \n",
      "LoanAmount               -0.009875  \n",
      "Loan_Amount_Term          0.014102  \n",
      "Credit_History            1.000000  \n"
     ]
    }
   ],
   "source": [
    "y = data.select_dtypes(include=[float, int])\n",
    "correlation = y.corr()\n",
    "print('Correlation Matrix:\\n')\n",
    "print(correlation)"
   ]
  },
  {
   "cell_type": "code",
   "execution_count": 55,
   "id": "3b4f0dc5",
   "metadata": {},
   "outputs": [
    {
     "data": {
      "image/png": "[encoded data removed]",
      "text/plain": [
       "<Figure size 640x480 with 2 Axes>"
      ]
     },
     "metadata": {},
     "output_type": "display_data"
    }
   ],
   "source": [
    "sns.heatmap(correlation, annot=True, cmap='cividis', fmt=\".3f\")\n",
    "plt.show()"
   ]
  },
  {
   "cell_type": "code",
   "execution_count": null,
   "id": "05e90133",
   "metadata": {},
   "outputs": [],
   "source": []
  }
 ],
 "metadata": {
  "kernelspec": {
   "display_name": "Python 3 (ipykernel)",
   "language": "python",
   "name": "python3"
  },
  "language_info": {
   "codemirror_mode": {
    "name": "ipython",
    "version": 3
   },
   "file_extension": ".py",
   "mimetype": "text/x-python",
   "name": "python",
   "nbconvert_exporter": "python",
   "pygments_lexer": "ipython3",
   "version": "3.11.5"
  }
 },
 "nbformat": 4,
 "nbformat_minor": 5
}
